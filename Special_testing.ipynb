{
 "cells": [
  {
   "cell_type": "code",
   "execution_count": 1,
   "metadata": {},
   "outputs": [],
   "source": [
    "import cv2\n",
    "import numpy as np\n",
    "\n",
    "from matplotlib import pyplot as plt\n",
    "\n",
    "%matplotlib inline\n",
    "\n",
    "\n",
    "import os, cv2\n",
    "\n",
    "from IPython.display import clear_output\n",
    "\n",
    "%matplotlib inline"
   ]
  },
  {
   "cell_type": "code",
   "execution_count": 2,
   "metadata": {},
   "outputs": [],
   "source": [
    "import pickle\n",
    "filename = 'svc_face.pkl'\n",
    "svm = pickle.load(open(filename, 'rb'))"
   ]
  },
  {
   "cell_type": "code",
   "execution_count": 3,
   "metadata": {},
   "outputs": [],
   "source": [
    "filename = 'pca_face.pkl'\n",
    "pca1 = pickle.load(open(filename, 'rb'))\n",
    "filename = 'sc_face.pkl'\n",
    "sc = pickle.load(open(filename, 'rb'))"
   ]
  },
  {
   "cell_type": "code",
   "execution_count": 4,
   "metadata": {},
   "outputs": [],
   "source": [
    "def test_dataset():\n",
    "    images = []\n",
    "    #labels = []\n",
    "    #labels_dic = {}\n",
    "    size=(47,62)\n",
    "    #people = [person for person in os.listdir(\"Male_female/\")]\n",
    "    people = [person for person in os.listdir(\"C:\\\\Users\\\\DELL\\\\face_model\\\\Research 1\\\\Special_test\")]\n",
    "    #people = [person for person in os.listdir(\"people/\")]\n",
    "    \"\"\"for i, person in enumerate(people):\n",
    "        labels_dic[i] = person \"\"\"\n",
    "    for image in os.listdir(\"C:\\\\Users\\\\DELL\\\\face_model\\\\Research 1\\\\Special_test\\\\\"):\n",
    "        if image.endswith('.jpg'):\n",
    "            img=cv2.imread(\"C:\\\\Users\\\\DELL\\\\face_model\\\\Research 1\\\\Special_test\\\\\" + image, 0)\n",
    "            images.append(cv2.resize(img, size)) \n",
    "            #labels.append(i)\n",
    "    return (images)"
   ]
  },
  {
   "cell_type": "code",
   "execution_count": 5,
   "metadata": {},
   "outputs": [],
   "source": [
    "images=test_dataset()"
   ]
  },
  {
   "cell_type": "code",
   "execution_count": 6,
   "metadata": {},
   "outputs": [],
   "source": [
    "test=np.asarray(images)"
   ]
  },
  {
   "cell_type": "code",
   "execution_count": 7,
   "metadata": {},
   "outputs": [
    {
     "data": {
      "text/plain": [
       "(6, 62, 47)"
      ]
     },
     "execution_count": 7,
     "metadata": {},
     "output_type": "execute_result"
    }
   ],
   "source": [
    "test.shape"
   ]
  },
  {
   "cell_type": "code",
   "execution_count": 8,
   "metadata": {},
   "outputs": [],
   "source": [
    "t=test.reshape(len(test),-1)"
   ]
  },
  {
   "cell_type": "code",
   "execution_count": 9,
   "metadata": {},
   "outputs": [
    {
     "data": {
      "text/plain": [
       "(6, 2914)"
      ]
     },
     "execution_count": 9,
     "metadata": {},
     "output_type": "execute_result"
    }
   ],
   "source": [
    "t.shape"
   ]
  },
  {
   "cell_type": "code",
   "execution_count": 10,
   "metadata": {},
   "outputs": [
    {
     "name": "stderr",
     "output_type": "stream",
     "text": [
      "C:\\Users\\DELL\\Anaconda3\\lib\\site-packages\\sklearn\\utils\\validation.py:475: DataConversionWarning: Data with input dtype uint8 was converted to float64 by StandardScaler.\n",
      "  warnings.warn(msg, DataConversionWarning)\n"
     ]
    }
   ],
   "source": [
    "pred=svm.predict(pca1.transform(sc.transform(t)))"
   ]
  },
  {
   "cell_type": "code",
   "execution_count": 11,
   "metadata": {},
   "outputs": [
    {
     "data": {
      "text/plain": [
       "array([1, 2, 0, 1, 4, 0])"
      ]
     },
     "execution_count": 11,
     "metadata": {},
     "output_type": "execute_result"
    }
   ],
   "source": [
    "pred"
   ]
  },
  {
   "cell_type": "code",
   "execution_count": 12,
   "metadata": {},
   "outputs": [],
   "source": [
    "def detect_face(img):\n",
    "    #convert the test image to gray image as opencv face detector expects gray images\n",
    "    gray = cv2.cvtColor(img, cv2.COLOR_BGR2GRAY)\n",
    "    \n",
    "    #load OpenCV face detector, I am using LBP which is fast\n",
    "    #there is also a more accurate but slow Haar classifier\n",
    "    face_cascade = cv2.CascadeClassifier('C:/Users/DELL/haarcascade_frontalface_default.xml')\n",
    "\n",
    "    #let's detect multiscale (some images may be closer to camera than others) images\n",
    "    #result is a list of faces\n",
    "    faces = face_cascade.detectMultiScale(gray, scaleFactor=1.2, minNeighbors=5);\n",
    "    \n",
    "    #if no faces are detected then return original img\n",
    "    if (len(faces) == 0):\n",
    "        return None, None\n",
    "    \n",
    "    #under the assumption that there will be only one face,\n",
    "    #extract the face area\n",
    "    (x, y, w, h) = faces[0]\n",
    "    \n",
    "    #return only the face part of the image\n",
    "    return gray[y:y+w, x:x+h], faces[0]\n"
   ]
  },
  {
   "cell_type": "code",
   "execution_count": 13,
   "metadata": {},
   "outputs": [],
   "source": [
    "def draw_rectangle(img, rect):\n",
    "    (x, y, w, h) = rect\n",
    "    cv2.rectangle(img, (x, y), (x+w, y+h), (0, 255, 0), 2)\n",
    "    \n",
    "#function to draw text on give image starting from\n",
    "#passed (x, y) coordinates. \n",
    "def draw_text(img, text, x, y):\n",
    "    cv2.putText(img, text, (x, y), cv2.FONT_HERSHEY_PLAIN, 1.5, (0, 255, 0), 2)"
   ]
  },
  {
   "cell_type": "code",
   "execution_count": 14,
   "metadata": {},
   "outputs": [],
   "source": [
    "def prepare(test_image, i):\n",
    "    #make a copy of the image as we don't want to chang original image\n",
    "    img = test_image.copy()\n",
    "    #detect face from the image\n",
    "    face, rect = detect_face(img)\n",
    "\n",
    "    #predict the image using our face recognizer \n",
    "    label=pred[i]\n",
    "    #get name of respective label returned by face recognizer\n",
    "    label_text = label_dic[label]\n",
    "    \n",
    "    #draw a rectangle around face detected\n",
    "    draw_rectangle(img, rect)\n",
    "    #draw name of predicted person\n",
    "    draw_text(img, label_text, rect[0], rect[1]-5)\n",
    "    \n",
    "    return img\n",
    "    \n"
   ]
  },
  {
   "cell_type": "code",
   "execution_count": null,
   "metadata": {},
   "outputs": [
    {
     "name": "stdout",
     "output_type": "stream",
     "text": [
      "Prediction complete\n"
     ]
    }
   ],
   "source": [
    "label_dic=['ben_afflek', 'elton_john', 'jerry_seinfeld', 'madonna', 'mindy_kaling']\n",
    "\n",
    "test_img1 = cv2.imread(\"C:\\\\Users\\\\DELL\\\\face_model\\\\Research 1\\\\Special_test\\\\0.jpg\")\n",
    "test_img2 = cv2.imread(\"C:\\\\Users\\\\DELL\\\\face_model\\\\Research 1\\\\Special_test\\\\1.jpg\")\n",
    "test_img3 = cv2.imread(\"C:\\\\Users\\\\DELL\\\\face_model\\\\Research 1\\\\Special_test\\\\5.jpg\")\n",
    "test_img4 = cv2.imread(\"C:\\\\Users\\\\DELL\\\\face_model\\\\Research 1\\\\Special_test\\\\3.jpg\")\n",
    "test_img5 = cv2.imread(\"C:\\\\Users\\\\DELL\\\\face_model\\\\Research 1\\\\Special_test\\\\4.jpg\")\n",
    "#prepare result image \n",
    "predicted_img1 = prepare(test_img1, 0)\n",
    "predicted_img2 = prepare(test_img2, 1)\n",
    "predicted_img3 = prepare(test_img3, 5)\n",
    "predicted_img4 = prepare(test_img4, 3)\n",
    "predicted_img5 = prepare(test_img5, 4)\n",
    "print(\"Prediction complete\")\n",
    "\n",
    "#display both images\n",
    "cv2.imshow(\"1\", cv2.resize(predicted_img1, (400, 500)))\n",
    "cv2.imshow(\"2\", cv2.resize(predicted_img2, (400, 500)))\n",
    "cv2.imshow(\"3\", cv2.resize(predicted_img3, (400, 500)))\n",
    "cv2.imshow(\"4\", cv2.resize(predicted_img4, (400, 500)))\n",
    "cv2.imshow(\"5\", cv2.resize(predicted_img5, (400, 500)))\n",
    "cv2.waitKey(0)\n",
    "cv2.destroyAllWindows()\n",
    "cv2.waitKey(1)\n",
    "cv2.destroyAllWindows()\n",
    "cv2.waitKey(2)\n",
    "cv2.destroyAllWindows()\n",
    "cv2.waitKey(3)\n",
    "cv2.destroyAllWindows()\n",
    "cv2.waitKey(4)\n",
    "cv2.destroyAllWindows()"
   ]
  },
  {
   "cell_type": "code",
   "execution_count": null,
   "metadata": {},
   "outputs": [],
   "source": []
  }
 ],
 "metadata": {
  "kernelspec": {
   "display_name": "Python 3",
   "language": "python",
   "name": "python3"
  },
  "language_info": {
   "codemirror_mode": {
    "name": "ipython",
    "version": 3
   },
   "file_extension": ".py",
   "mimetype": "text/x-python",
   "name": "python",
   "nbconvert_exporter": "python",
   "pygments_lexer": "ipython3",
   "version": "3.7.0"
  }
 },
 "nbformat": 4,
 "nbformat_minor": 2
}
